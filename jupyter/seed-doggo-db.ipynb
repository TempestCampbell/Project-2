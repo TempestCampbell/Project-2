{
 "cells": [
  {
   "cell_type": "code",
   "execution_count": 1,
   "metadata": {},
   "outputs": [],
   "source": [
    "import pandas as pd\n",
    "from sodapy import Socrata"
   ]
  },
  {
   "cell_type": "code",
   "execution_count": 2,
   "metadata": {},
   "outputs": [],
   "source": [
    "client = Socrata(\"data.cityofnewyork.us\",\n",
    "                 \"7MystexXhjDtgtn6dZxzE5Kwb\",\n",
    "                 username=\"sjw.yates@gmail.com\",\n",
    "                 password=\"d0gg0N@me$\")"
   ]
  },
  {
   "cell_type": "code",
   "execution_count": 3,
   "metadata": {},
   "outputs": [],
   "source": [
    "babies_ept = \"25th-nujf\"\n",
    "doggos_ept = \"nu7n-tubp\""
   ]
  },
  {
   "cell_type": "code",
   "execution_count": 4,
   "metadata": {},
   "outputs": [],
   "source": [
    "import sqlalchemy\n",
    "from sqlalchemy.ext.automap import automap_base\n",
    "from sqlalchemy.orm import sessionmaker\n",
    "from sqlalchemy import create_engine, inspect, Column, Integer, String"
   ]
  },
  {
   "cell_type": "code",
   "execution_count": 5,
   "metadata": {},
   "outputs": [],
   "source": [
    "engine = create_engine(\"sqlite:///../db/doggo-db.sqlite\")"
   ]
  },
  {
   "cell_type": "code",
   "execution_count": 6,
   "metadata": {},
   "outputs": [],
   "source": [
    "from sqlalchemy.ext.declarative import declarative_base\n",
    "Base = declarative_base()"
   ]
  },
  {
   "cell_type": "code",
   "execution_count": 7,
   "metadata": {},
   "outputs": [],
   "source": [
    "class Baby(Base):\n",
    "    __tablename__ = 'babies'\n",
    "    \n",
    "    id = Column(Integer, primary_key=True)\n",
    "    brth_yr = Column(Integer)\n",
    "    gndr = Column(String)\n",
    "    ethcty = Column(String)\n",
    "    nm = Column(String)\n",
    "    cnt = Column(Integer)\n",
    "    rnk = Column(Integer)\n",
    "    \n",
    "    def __repr__(self):\n",
    "        return \"<Baby(brth_yr='%s', gndr='%s', ethcty='%s', nm='%s', cnt='%s', rnk='%s')>\" % (\n",
    "                        self.brth_yr, self.gndr, self.ethcty, self.nm, self.cnt, self.rnk)"
   ]
  },
  {
   "cell_type": "code",
   "execution_count": 32,
   "metadata": {},
   "outputs": [],
   "source": [
    "Base.metadata.create_all(engine)"
   ]
  },
  {
   "cell_type": "code",
   "execution_count": 29,
   "metadata": {},
   "outputs": [],
   "source": [
    "Session = sessionmaker(bind=engine)\n",
    "session = Session()"
   ]
  },
  {
   "cell_type": "code",
   "execution_count": 10,
   "metadata": {},
   "outputs": [],
   "source": [
    "babies = client.get(babies_ept, limit=1000000000)"
   ]
  },
  {
   "cell_type": "code",
   "execution_count": 11,
   "metadata": {},
   "outputs": [],
   "source": [
    "for baby in babies:\n",
    "    new_baby = Baby(brth_yr = baby['brth_yr'],\n",
    "                    gndr = baby['gndr'],\n",
    "                    ethcty = baby['ethcty'],\n",
    "                    nm = baby['nm'],\n",
    "                    cnt = baby['cnt'],\n",
    "                    rnk = baby['rnk'])\n",
    "    session.add(new_baby)"
   ]
  },
  {
   "cell_type": "code",
   "execution_count": 12,
   "metadata": {},
   "outputs": [],
   "source": [
    "session.commit()"
   ]
  },
  {
   "cell_type": "code",
   "execution_count": 15,
   "metadata": {},
   "outputs": [],
   "source": [
    "class Doggo(Base):\n",
    "    __tablename__ = 'doggos'\n",
    "    \n",
    "    id = Column(Integer, primary_key=True)\n",
    "    rownumber = Column(Integer)\n",
    "    animalname = Column(String)\n",
    "    animalgender = Column(String)\n",
    "    animalbirth = Column(Integer)\n",
    "    breedname = Column(String)\n",
    "    zipcode = Column(String)\n",
    "    licenseissueddate = Column(String)\n",
    "    licenseexpireddate = Column(String)\n",
    "    extract_year = Column(Integer)\n",
    "    \n",
    "    def __repr__(self):\n",
    "        return \"<Doggo(rownumber='%s', animalname='%s', animalgender='%s', animalbirth='%s', breedname='%s', zipcode='%s', licenseissueddate='%s', licenseexpireddate='%s', extract_year='%s')>\" % (\n",
    "                        self.rownumber, self.animalname, self.animalgender, self.animalbirth, self.breedname, self.zipcode, self.licenseissueddate, self.licenseexpireddate, self.extract_year)"
   ]
  },
  {
   "cell_type": "code",
   "execution_count": 13,
   "metadata": {},
   "outputs": [],
   "source": [
    "doggos = client.get(doggos_ept, limit=1000000000)"
   ]
  },
  {
   "cell_type": "code",
   "execution_count": 37,
   "metadata": {},
   "outputs": [],
   "source": [
    "for doggo in doggos:\n",
    "    if 'animalgender' not in doggo:\n",
    "        doggo['animalgender'] = 'None Specified'\n",
    "    new_doggo = Doggo(rownumber = int(doggo['rownumber']),\n",
    "                     animalname = doggo['animalname'],\n",
    "                     animalgender = doggo['animalgender'],\n",
    "                     animalbirth = int(doggo['animalbirth']),\n",
    "                     breedname = doggo['breedname'],\n",
    "                     zipcode = doggo['zipcode'],\n",
    "                     licenseissueddate = doggo['licenseissueddate'],\n",
    "                     licenseexpireddate = doggo['licenseexpireddate'],\n",
    "                     extract_year = int(doggo['extract_year']))\n",
    "    session.add(new_doggo)"
   ]
  },
  {
   "cell_type": "code",
   "execution_count": 38,
   "metadata": {},
   "outputs": [],
   "source": [
    "session.commit()"
   ]
  },
  {
   "cell_type": "code",
   "execution_count": null,
   "metadata": {},
   "outputs": [],
   "source": []
  }
 ],
 "metadata": {
  "kernelspec": {
   "display_name": "Python [conda env:PythonData] *",
   "language": "python",
   "name": "conda-env-PythonData-py"
  },
  "language_info": {
   "codemirror_mode": {
    "name": "ipython",
    "version": 3
   },
   "file_extension": ".py",
   "mimetype": "text/x-python",
   "name": "python",
   "nbconvert_exporter": "python",
   "pygments_lexer": "ipython3",
   "version": "3.6.10"
  }
 },
 "nbformat": 4,
 "nbformat_minor": 4
}

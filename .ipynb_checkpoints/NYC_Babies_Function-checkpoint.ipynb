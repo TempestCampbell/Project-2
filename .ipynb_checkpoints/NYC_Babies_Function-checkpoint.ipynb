{
 "cells": [
  {
   "cell_type": "code",
   "execution_count": 1,
   "metadata": {},
   "outputs": [],
   "source": [
    "import pandas as pd\n",
    "\n",
    "import sqlalchemy\n",
    "from sqlalchemy.ext.automap import automap_base\n",
    "from sqlalchemy.orm import sessionmaker, Session\n",
    "from sqlalchemy import create_engine, inspect, Column, Integer, String\n",
    "\n",
    "engine = create_engine(\"sqlite:///db/doggo-db.sqlite\")\n",
    "\n",
    "from sqlalchemy.ext.declarative import declarative_base\n",
    "Base = declarative_base()"
   ]
  },
  {
   "cell_type": "code",
   "execution_count": 2,
   "metadata": {},
   "outputs": [],
   "source": [
    "Base = automap_base()\n",
    "# reflect the tables\n",
    "Base.prepare(engine, reflect=True)\n",
    "\n"
   ]
  },
  {
   "cell_type": "code",
   "execution_count": 3,
   "metadata": {},
   "outputs": [
    {
     "data": {
      "text/plain": [
       "['babies', 'doggos']"
      ]
     },
     "execution_count": 3,
     "metadata": {},
     "output_type": "execute_result"
    }
   ],
   "source": []
  },
  {
   "cell_type": "code",
   "execution_count": 9,
   "metadata": {},
   "outputs": [
    {
     "data": {
      "text/html": [
       "<div>\n",
       "<style scoped>\n",
       "    .dataframe tbody tr th:only-of-type {\n",
       "        vertical-align: middle;\n",
       "    }\n",
       "\n",
       "    .dataframe tbody tr th {\n",
       "        vertical-align: top;\n",
       "    }\n",
       "\n",
       "    .dataframe thead th {\n",
       "        text-align: right;\n",
       "    }\n",
       "</style>\n",
       "<table border=\"1\" class=\"dataframe\">\n",
       "  <thead>\n",
       "    <tr style=\"text-align: right;\">\n",
       "      <th></th>\n",
       "      <th>Name</th>\n",
       "      <th>Total 2016 Count</th>\n",
       "    </tr>\n",
       "  </thead>\n",
       "  <tbody>\n",
       "    <tr>\n",
       "      <th>670</th>\n",
       "      <td>Liam</td>\n",
       "      <td>699</td>\n",
       "    </tr>\n",
       "    <tr>\n",
       "      <th>690</th>\n",
       "      <td>Jacob</td>\n",
       "      <td>689</td>\n",
       "    </tr>\n",
       "    <tr>\n",
       "      <th>662</th>\n",
       "      <td>Ethan</td>\n",
       "      <td>683</td>\n",
       "    </tr>\n",
       "    <tr>\n",
       "      <th>681</th>\n",
       "      <td>Noah</td>\n",
       "      <td>621</td>\n",
       "    </tr>\n",
       "    <tr>\n",
       "      <th>0</th>\n",
       "      <td>Olivia</td>\n",
       "      <td>559</td>\n",
       "    </tr>\n",
       "    <tr>\n",
       "      <th>...</th>\n",
       "      <td>...</td>\n",
       "      <td>...</td>\n",
       "    </tr>\n",
       "    <tr>\n",
       "      <th>643</th>\n",
       "      <td>Poppy</td>\n",
       "      <td>10</td>\n",
       "    </tr>\n",
       "    <tr>\n",
       "      <th>644</th>\n",
       "      <td>Brynn</td>\n",
       "      <td>10</td>\n",
       "    </tr>\n",
       "    <tr>\n",
       "      <th>645</th>\n",
       "      <td>Reem</td>\n",
       "      <td>10</td>\n",
       "    </tr>\n",
       "    <tr>\n",
       "      <th>646</th>\n",
       "      <td>Lilliana</td>\n",
       "      <td>10</td>\n",
       "    </tr>\n",
       "    <tr>\n",
       "      <th>1244</th>\n",
       "      <td>Aviel</td>\n",
       "      <td>10</td>\n",
       "    </tr>\n",
       "  </tbody>\n",
       "</table>\n",
       "<p>1245 rows × 2 columns</p>\n",
       "</div>"
      ],
      "text/plain": [
       "          Name  Total 2016 Count\n",
       "670       Liam               699\n",
       "690      Jacob               689\n",
       "662      Ethan               683\n",
       "681       Noah               621\n",
       "0       Olivia               559\n",
       "...        ...               ...\n",
       "643      Poppy                10\n",
       "644      Brynn                10\n",
       "645       Reem                10\n",
       "646   Lilliana                10\n",
       "1244     Aviel                10\n",
       "\n",
       "[1245 rows x 2 columns]"
      ]
     },
     "execution_count": 9,
     "metadata": {},
     "output_type": "execute_result"
    }
   ],
   "source": [
    "babies = Base.classes.babies\n",
    "# doggos = Base.classes.doggos\n",
    "\n",
    "# Create our session (link) from Python to the DB\n",
    "session = Session(engine)\n",
    "\n",
    "results = session.query(babies.brth_yr, babies.gndr, babies.ethcty, babies.nm, babies.cnt, babies.rnk).all()\n",
    "df=pd.DataFrame(results)\n",
    "\n",
    "#Replace incomplete name with complete name\n",
    "df.replace('ASIAN AND PACI','ASIAN AND PACIFIC ISLANDER', inplace=True)\n",
    "df.replace('BLACK NON HISP','BLACK NON HISPANIC', inplace=True)\n",
    "df.replace('WHITE NON HISP','WHITE NON HISPANIC', inplace=True)\n",
    "\n",
    "#Rename FEMALE==F and MALE==M\n",
    "df.replace('FEMALE','F', inplace=True)\n",
    "df.replace('MALE','M', inplace=True)\n",
    "\n",
    "#Drop Duplicate rows\n",
    "dfd=df.drop_duplicates()\n",
    "\n",
    "#Sort by column, alphabetize names and combine \"cnt\" count for each name (dictionary)\n",
    "dfn=dfd[dfd['brth_yr']==2016]\n",
    "\n",
    "count={}\n",
    "\n",
    "for index, row in dfn.iterrows():\n",
    "    name=row[\"nm\"]\n",
    "    if name in count:\n",
    "        count[name]+=row[\"cnt\"]\n",
    "    else: \n",
    "        count[name]=row[\"cnt\"]\n",
    "\n",
    "#Create DF with new data (dictionary to list to DF)\n",
    "dfn_df=pd.DataFrame(list(count.items()), columns=[\"Name\",\"Total 2016 Count\"])\n",
    "\n",
    "dfn_df_s=dfn_df.sort_values(\"Total 2016 Count\", ascending=False)\n",
    "dfn_df_s"
   ]
  },
  {
   "cell_type": "code",
   "execution_count": null,
   "metadata": {},
   "outputs": [],
   "source": []
  },
  {
   "cell_type": "code",
   "execution_count": 6,
   "metadata": {},
   "outputs": [],
   "source": []
  }
 ],
 "metadata": {
  "kernelspec": {
   "display_name": "Python [conda env:PythonData] *",
   "language": "python",
   "name": "conda-env-PythonData-py"
  },
  "language_info": {
   "codemirror_mode": {
    "name": "ipython",
    "version": 3
   },
   "file_extension": ".py",
   "mimetype": "text/x-python",
   "name": "python",
   "nbconvert_exporter": "python",
   "pygments_lexer": "ipython3",
   "version": "3.7.1"
  }
 },
 "nbformat": 4,
 "nbformat_minor": 4
}
